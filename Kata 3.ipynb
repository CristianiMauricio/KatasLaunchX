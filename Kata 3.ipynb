{
 "cells": [
  {
   "cell_type": "code",
   "execution_count": 6,
   "metadata": {},
   "outputs": [
    {
     "name": "stdout",
     "output_type": "stream",
     "text": [
      "Advertencia, hay un asteroide dirigiéndose a la Tierra a 49 km/s.\n"
     ]
    }
   ],
   "source": [
    "velasteroide=49\n",
    "if velasteroide > 25:\n",
    "    print(f'Advertencia, hay un asteroide dirigiéndose a la Tierra a {velasteroide} km/s.')\n",
    "else:\n",
    "    print('Todo está bajo control.')"
   ]
  },
  {
   "cell_type": "code",
   "execution_count": 4,
   "metadata": {},
   "outputs": [
    {
     "name": "stdout",
     "output_type": "stream",
     "text": [
      "Todo está bajo control.\n"
     ]
    }
   ],
   "source": [
    "velasteroide=19\n",
    "if velasteroide >=20:\n",
    "    print('¡Atención, puede que se observe un asteroide en el cielo!')\n",
    "else:\n",
    "    print('Todo está bajo control.')"
   ]
  },
  {
   "cell_type": "code",
   "execution_count": 5,
   "metadata": {},
   "outputs": [
    {
     "name": "stdout",
     "output_type": "stream",
     "text": [
      "¡Atención, puede que se observe un asteroide en el cielo!\n"
     ]
    }
   ],
   "source": [
    "tamasteroide = 40\n",
    "velasteroide = 25\n",
    "if tamasteroide > 25 and velasteroide > 25:\n",
    "    print(f'Advertencia, hay un asteroide con dimensiones y velocidad peligrosas con dirección a la Tierra.')\n",
    "elif velasteroide >= 20:\n",
    "    print('¡Atención, puede que se observe un asteroide en el cielo!')\n",
    "elif velasteroide > 25:\n",
    "    print('¡Atención, se ha avistado un asteroide con velocidad peligrosa.')\n",
    "elif 25 > tamasteroide > 1000:\n",
    "    print('¡Atención, se ha avistado un asteroide de dimensión peligrosa.')\n",
    "elif tamasteroide <= 25:\n",
    "    print('Todo está bajo control.')"
   ]
  },
  {
   "cell_type": "code",
   "execution_count": null,
   "metadata": {},
   "outputs": [],
   "source": []
  }
 ],
 "metadata": {
  "interpreter": {
   "hash": "7794109e3a1414ccf4b5b2ee8761452a048e03b20ec3f277e1d144837821014c"
  },
  "kernelspec": {
   "display_name": "Python 3.10.2 64-bit",
   "language": "python",
   "name": "python3"
  },
  "language_info": {
   "codemirror_mode": {
    "name": "ipython",
    "version": 3
   },
   "file_extension": ".py",
   "mimetype": "text/x-python",
   "name": "python",
   "nbconvert_exporter": "python",
   "pygments_lexer": "ipython3",
   "version": "3.10.2"
  },
  "orig_nbformat": 4
 },
 "nbformat": 4,
 "nbformat_minor": 2
}
