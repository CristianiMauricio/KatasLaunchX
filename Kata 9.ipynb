{
 "cells": [
  {
   "cell_type": "code",
   "execution_count": 41,
   "metadata": {},
   "outputs": [
    {
     "data": {
      "text/plain": [
       "'Arrival: Tuesday 21:15'"
      ]
     },
     "execution_count": 41,
     "metadata": {},
     "output_type": "execute_result"
    }
   ],
   "source": [
    "from datetime import timedelta, datetime\n",
    "\n",
    "def arrival_time(hours=51):\n",
    "    now = datetime.now()\n",
    "    arrival = now + timedelta(hours=hours)\n",
    "    return arrival.strftime('Arrival: %A %H:%M')\n",
    "arrival_time(1)"
   ]
  },
  {
   "cell_type": "code",
   "execution_count": 42,
   "metadata": {},
   "outputs": [
    {
     "name": "stdout",
     "output_type": "stream",
     "text": [
      "(0,)\n"
     ]
    }
   ],
   "source": [
    "a=0\n",
    "def variable_length(*args):\n",
    "    print(args)\n",
    "\n",
    "variable_length(0)"
   ]
  },
  {
   "cell_type": "markdown",
   "metadata": {},
   "source": [
    "Ejercicio 1."
   ]
  },
  {
   "cell_type": "code",
   "execution_count": 43,
   "metadata": {},
   "outputs": [],
   "source": [
    "def reporte(tanque1,tanque2,tanque3):\n",
    "    promedio=(tanque1+tanque2+tanque3)/3\n",
    "    return f'''\n",
    "    Combustible promedio: {promedio}%\n",
    "    Tanque 1: {tanque1}%\n",
    "    Tanque 2: {tanque2}%\n",
    "    Tanque 3: {tanque3}%\n",
    "    '''"
   ]
  },
  {
   "cell_type": "code",
   "execution_count": 44,
   "metadata": {},
   "outputs": [
    {
     "data": {
      "text/plain": [
       "'\\n    Combustible promedio: 60.0%\\n    Tanque 1: 50%\\n    Tanque 2: 70%\\n    Tanque 3: 60%\\n    '"
      ]
     },
     "execution_count": 44,
     "metadata": {},
     "output_type": "execute_result"
    }
   ],
   "source": [
    "reporte(50,70,60)"
   ]
  },
  {
   "cell_type": "code",
   "execution_count": 45,
   "metadata": {},
   "outputs": [],
   "source": [
    "def fpromedio(valores):\n",
    "    suma = sum(valores)\n",
    "    cantidaddevalores = len(valores)\n",
    "    return suma / cantidaddevalores"
   ]
  },
  {
   "cell_type": "code",
   "execution_count": 46,
   "metadata": {},
   "outputs": [
    {
     "name": "stdout",
     "output_type": "stream",
     "text": [
      "\n",
      "    Combustible promedio: 60.0%\n",
      "    Tanque 1: 60%\n",
      "    Tanque 2: 70%\n",
      "    Tanque 3: 50%\n",
      "    \n"
     ]
    }
   ],
   "source": [
    "def reporte(tanque1,tanque2,tanque3):\n",
    "    promedio=(tanque1+tanque2+tanque3)/3\n",
    "    return f'''\n",
    "    Combustible promedio: {fpromedio([tanque1,tanque2,tanque3])}%\n",
    "    Tanque 1: {tanque1}%\n",
    "    Tanque 2: {tanque2}%\n",
    "    Tanque 3: {tanque3}%\n",
    "    '''\n",
    "print(reporte(60,70,50))"
   ]
  },
  {
   "cell_type": "markdown",
   "metadata": {},
   "source": [
    "Ejercicio 2."
   ]
  },
  {
   "cell_type": "code",
   "execution_count": 47,
   "metadata": {},
   "outputs": [
    {
     "name": "stdout",
     "output_type": "stream",
     "text": [
      "\n",
      "    Misión con destino a Marte\n",
      "    Tiempo total del viaje: 855 minutos\n",
      "    Combustible restante: 23000 galones\n",
      "    \n"
     ]
    }
   ],
   "source": [
    "def informe(hrprelanzamiento, tiempovuelo, destino, tanqueexterno, tanqueinterno):\n",
    "    return f\"\"\"\n",
    "    Misión con destino a {destino}\n",
    "    Tiempo total del viaje: {hrprelanzamiento + tiempovuelo} minutos\n",
    "    Combustible restante: {tanqueexterno + tanqueinterno} galones\n",
    "    \"\"\"\n",
    "\n",
    "print(informe(78, 777, \"Marte\", 20000, 3000))"
   ]
  },
  {
   "cell_type": "code",
   "execution_count": 48,
   "metadata": {},
   "outputs": [
    {
     "name": "stdout",
     "output_type": "stream",
     "text": [
      "\n",
      "    Misión con destino a Marte\n",
      "    Tiempo total del viaje: 12 minutos\n",
      "    Combustible restante: 772000 galones\n",
      "    \n"
     ]
    }
   ],
   "source": [
    "def informe(destino, *minutos, **tanques):\n",
    "    return f\"\"\"\n",
    "    Misión con destino a {destino}\n",
    "    Tiempo total del viaje: {sum(minutos)} minutos\n",
    "    Combustible restante: {sum(tanques.values())} galones\n",
    "    \"\"\"\n",
    "\n",
    "print(informe(\"Marte\", 3,4,5 , interno= 2000, externo=770000))"
   ]
  },
  {
   "cell_type": "code",
   "execution_count": 49,
   "metadata": {},
   "outputs": [
    {
     "name": "stdout",
     "output_type": "stream",
     "text": [
      "None\n"
     ]
    }
   ],
   "source": [
    "def mission_report(destination, *minutes, **fuel_reservoirs):\n",
    "    main_report = f\"\"\"\n",
    "    Mission to {destination}\n",
    "    Total travel time: {sum(minutes)} minutes\n",
    "    Total fuel left: {sum(fuel_reservoirs.values())}\n",
    "    \"\"\"\n",
    "   \n",
    "\n",
    "print(mission_report(\"Marte\", 7, 22, 343, main=84000, external=54800))"
   ]
  },
  {
   "cell_type": "code",
   "execution_count": 50,
   "metadata": {},
   "outputs": [
    {
     "name": "stdout",
     "output_type": "stream",
     "text": [
      "\n",
      "    Misión con destino a Marte\n",
      "    Tiempo total del viaje: 372 minutos\n",
      "    Combustible restante: 138800 galones\n",
      "    Tanque main --> 84000 galones restantes.\n",
      "Tanque external --> 54800 galones restantes.\n",
      "\n"
     ]
    }
   ],
   "source": [
    "def informe(destino, *minutos, **tanques):\n",
    "    reporte=f\"\"\"\n",
    "    Misión con destino a {destino}\n",
    "    Tiempo total del viaje: {sum(minutos)} minutos\n",
    "    Combustible restante: {sum(tanques.values())} galones\n",
    "    \"\"\"\n",
    "\n",
    "    for tanque, galones in tanques.items():\n",
    "            reporte += f\"Tanque {tanque} --> {galones} galones restantes.\\n\"\n",
    "    return reporte\n",
    "\n",
    "print(informe(\"Marte\", 7, 22, 343, main=84000, external=54800))"
   ]
  }
 ],
 "metadata": {
  "interpreter": {
   "hash": "7794109e3a1414ccf4b5b2ee8761452a048e03b20ec3f277e1d144837821014c"
  },
  "kernelspec": {
   "display_name": "Python 3.10.2 64-bit",
   "language": "python",
   "name": "python3"
  },
  "language_info": {
   "codemirror_mode": {
    "name": "ipython",
    "version": 3
   },
   "file_extension": ".py",
   "mimetype": "text/x-python",
   "name": "python",
   "nbconvert_exporter": "python",
   "pygments_lexer": "ipython3",
   "version": "3.10.2"
  },
  "orig_nbformat": 4
 },
 "nbformat": 4,
 "nbformat_minor": 2
}
