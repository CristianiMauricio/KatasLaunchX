{
 "cells": [
  {
   "cell_type": "markdown",
   "metadata": {},
   "source": [
    "Ejercicio 1."
   ]
  },
  {
   "cell_type": "code",
   "execution_count": 17,
   "metadata": {},
   "outputs": [],
   "source": [
    "tierra=149597870\n",
    "jupiter=778547200"
   ]
  },
  {
   "cell_type": "code",
   "execution_count": 18,
   "metadata": {},
   "outputs": [
    {
     "name": "stdout",
     "output_type": "stream",
     "text": [
      "628949330\n",
      "390577533.93\n"
     ]
    }
   ],
   "source": [
    "distanciakm=jupiter-tierra\n",
    "print(distanciakm)\n",
    "\n",
    "distanciami=distanciakm*0.621\n",
    "print(distanciami)"
   ]
  },
  {
   "cell_type": "markdown",
   "metadata": {},
   "source": [
    "Ejercicio 2."
   ]
  },
  {
   "cell_type": "code",
   "execution_count": 19,
   "metadata": {},
   "outputs": [],
   "source": [
    "distancia1=input('¿Cuál es la distancia en KM del primer planeta con el Sol?')\n",
    "distancia2=input('¿Cuál es la distancia en KM del segundo planeta con el Sol?')\n"
   ]
  },
  {
   "cell_type": "code",
   "execution_count": 20,
   "metadata": {},
   "outputs": [],
   "source": [
    "distancia1int=int(distancia1)\n",
    "distancia2int=int(distancia2)"
   ]
  },
  {
   "cell_type": "code",
   "execution_count": 21,
   "metadata": {},
   "outputs": [
    {
     "name": "stdout",
     "output_type": "stream",
     "text": [
      "50300000\n",
      "31236300.0\n"
     ]
    }
   ],
   "source": [
    "distanciaentreplanetas=abs(distancia1int-distancia2int)\n",
    "print(distanciaentreplanetas)\n",
    "\n",
    "distanciaentreplanetasmil=distanciaentreplanetas*0.621\n",
    "print(distanciaentreplanetasmil)"
   ]
  }
 ],
 "metadata": {
  "interpreter": {
   "hash": "7794109e3a1414ccf4b5b2ee8761452a048e03b20ec3f277e1d144837821014c"
  },
  "kernelspec": {
   "display_name": "Python 3.10.2 64-bit",
   "language": "python",
   "name": "python3"
  },
  "language_info": {
   "codemirror_mode": {
    "name": "ipython",
    "version": 3
   },
   "file_extension": ".py",
   "mimetype": "text/x-python",
   "name": "python",
   "nbconvert_exporter": "python",
   "pygments_lexer": "ipython3",
   "version": "3.10.2"
  },
  "orig_nbformat": 4
 },
 "nbformat": 4,
 "nbformat_minor": 2
}
